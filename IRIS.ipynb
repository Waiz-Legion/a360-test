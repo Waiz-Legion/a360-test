{
 "cells": [
  {
   "cell_type": "markdown",
   "id": "ebbc519e-e0fb-473c-86db-0e1bfc3ac218",
   "metadata": {},
   "source": [
    "# This project is just to explore a360"
   ]
  },
  {
   "cell_type": "code",
   "execution_count": 97,
   "id": "9fed0657-f121-44f0-8bff-d76832782c36",
   "metadata": {},
   "outputs": [
    {
     "data": {
      "text/plain": [
       "'MindsNXT-boston-crime-1'"
      ]
     },
     "execution_count": 97,
     "metadata": {},
     "output_type": "execute_result"
    }
   ],
   "source": [
    "DATAREPO_LIST = a360ai.list_datarepos()\n",
    "DATAREPO = DATAREPO_LIST['name'][0]\n",
    "DATAREPO"
   ]
  },
  {
   "cell_type": "code",
   "execution_count": null,
   "id": "c90ddbf1-863d-470a-9fdd-471e7782d795",
   "metadata": {},
   "outputs": [],
   "source": []
  },
  {
   "cell_type": "code",
   "execution_count": 98,
   "id": "9307fa89-752d-466d-a7d1-a670c48f86e8",
   "metadata": {},
   "outputs": [],
   "source": [
    "a360ai.set_default_datarepo(DATAREPO)"
   ]
  },
  {
   "cell_type": "code",
   "execution_count": 99,
   "id": "8d1f110a-937f-4939-9875-af1e091963d2",
   "metadata": {},
   "outputs": [
    {
     "data": {
      "text/html": [
       "<div>\n",
       "<style scoped>\n",
       "    .dataframe tbody tr th:only-of-type {\n",
       "        vertical-align: middle;\n",
       "    }\n",
       "\n",
       "    .dataframe tbody tr th {\n",
       "        vertical-align: top;\n",
       "    }\n",
       "\n",
       "    .dataframe thead th {\n",
       "        text-align: right;\n",
       "    }\n",
       "</style>\n",
       "<table border=\"1\" class=\"dataframe\">\n",
       "  <thead>\n",
       "    <tr style=\"text-align: right;\">\n",
       "      <th></th>\n",
       "      <th>base_name</th>\n",
       "      <th>extension</th>\n",
       "      <th>size</th>\n",
       "    </tr>\n",
       "  </thead>\n",
       "  <tbody>\n",
       "    <tr>\n",
       "      <th>0</th>\n",
       "      <td>c15.csv</td>\n",
       "      <td>csv</td>\n",
       "      <td>9734104</td>\n",
       "    </tr>\n",
       "    <tr>\n",
       "      <th>1</th>\n",
       "      <td>c16.csv</td>\n",
       "      <td>csv</td>\n",
       "      <td>17892322</td>\n",
       "    </tr>\n",
       "    <tr>\n",
       "      <th>2</th>\n",
       "      <td>c17.csv</td>\n",
       "      <td>csv</td>\n",
       "      <td>18246117</td>\n",
       "    </tr>\n",
       "    <tr>\n",
       "      <th>3</th>\n",
       "      <td>c18.csv</td>\n",
       "      <td>csv</td>\n",
       "      <td>17872313</td>\n",
       "    </tr>\n",
       "    <tr>\n",
       "      <th>4</th>\n",
       "      <td>c19.csv</td>\n",
       "      <td>csv</td>\n",
       "      <td>12786668</td>\n",
       "    </tr>\n",
       "    <tr>\n",
       "      <th>5</th>\n",
       "      <td>c20.csv</td>\n",
       "      <td>csv</td>\n",
       "      <td>12643537</td>\n",
       "    </tr>\n",
       "    <tr>\n",
       "      <th>6</th>\n",
       "      <td>c21.csv</td>\n",
       "      <td>csv</td>\n",
       "      <td>12970343</td>\n",
       "    </tr>\n",
       "    <tr>\n",
       "      <th>7</th>\n",
       "      <td>c22.csv</td>\n",
       "      <td>csv</td>\n",
       "      <td>8708252</td>\n",
       "    </tr>\n",
       "    <tr>\n",
       "      <th>8</th>\n",
       "      <td>iris.csv</td>\n",
       "      <td>csv</td>\n",
       "      <td>4551</td>\n",
       "    </tr>\n",
       "    <tr>\n",
       "      <th>9</th>\n",
       "      <td>iris.data</td>\n",
       "      <td>data</td>\n",
       "      <td>4551</td>\n",
       "    </tr>\n",
       "  </tbody>\n",
       "</table>\n",
       "</div>"
      ],
      "text/plain": [
       "   base_name extension      size\n",
       "0    c15.csv       csv   9734104\n",
       "1    c16.csv       csv  17892322\n",
       "2    c17.csv       csv  18246117\n",
       "3    c18.csv       csv  17872313\n",
       "4    c19.csv       csv  12786668\n",
       "5    c20.csv       csv  12643537\n",
       "6    c21.csv       csv  12970343\n",
       "7    c22.csv       csv   8708252\n",
       "8   iris.csv       csv      4551\n",
       "9  iris.data      data      4551"
      ]
     },
     "execution_count": 99,
     "metadata": {},
     "output_type": "execute_result"
    }
   ],
   "source": [
    "a360ai.list_datasets()"
   ]
  },
  {
   "cell_type": "code",
   "execution_count": 100,
   "id": "3ee32fdc-60cf-45c2-ba91-ef610777e4b8",
   "metadata": {},
   "outputs": [],
   "source": [
    "import seaborn as sb\n",
    "import pandas as pd\n",
    "import matplotlib.pyplot as plt\n",
    "from sklearn.metrics import accuracy_score, confusion_matrix, classification_report\n",
    "from sklearn.preprocessing import StandardScaler"
   ]
  },
  {
   "cell_type": "code",
   "execution_count": 101,
   "id": "f7c48f13-c05f-4742-8a34-268c9e5f4a17",
   "metadata": {},
   "outputs": [],
   "source": [
    "#iris = sb.load_dataset('iris')\n",
    "df = a360ai.load_dataset('iris.csv')"
   ]
  },
  {
   "cell_type": "code",
   "execution_count": 106,
   "id": "bc513177-2bb3-42ee-af1e-60ca3318a157",
   "metadata": {},
   "outputs": [],
   "source": [
    "df.rename(columns = {'5.1':'sepal_length',\n",
    "                             '3.5':'sepal_width',\n",
    "                             '1.4': 'petal_length',\n",
    "                             '0.2' : 'petal_width',\n",
    "                             'Iris-setosa' : 'species'}, inplace = True)"
   ]
  },
  {
   "cell_type": "code",
   "execution_count": 107,
   "id": "4024f056-892b-4a61-a8a2-148c7674b832",
   "metadata": {},
   "outputs": [
    {
     "data": {
      "text/html": [
       "<div>\n",
       "<style scoped>\n",
       "    .dataframe tbody tr th:only-of-type {\n",
       "        vertical-align: middle;\n",
       "    }\n",
       "\n",
       "    .dataframe tbody tr th {\n",
       "        vertical-align: top;\n",
       "    }\n",
       "\n",
       "    .dataframe thead th {\n",
       "        text-align: right;\n",
       "    }\n",
       "</style>\n",
       "<table border=\"1\" class=\"dataframe\">\n",
       "  <thead>\n",
       "    <tr style=\"text-align: right;\">\n",
       "      <th></th>\n",
       "      <th>sepal_length</th>\n",
       "      <th>sepal_width</th>\n",
       "      <th>petal_length</th>\n",
       "      <th>petal_width</th>\n",
       "      <th>species</th>\n",
       "    </tr>\n",
       "  </thead>\n",
       "  <tbody>\n",
       "    <tr>\n",
       "      <th>0</th>\n",
       "      <td>4.9</td>\n",
       "      <td>3.0</td>\n",
       "      <td>1.4</td>\n",
       "      <td>0.2</td>\n",
       "      <td>Iris-setosa</td>\n",
       "    </tr>\n",
       "    <tr>\n",
       "      <th>1</th>\n",
       "      <td>4.7</td>\n",
       "      <td>3.2</td>\n",
       "      <td>1.3</td>\n",
       "      <td>0.2</td>\n",
       "      <td>Iris-setosa</td>\n",
       "    </tr>\n",
       "    <tr>\n",
       "      <th>2</th>\n",
       "      <td>4.6</td>\n",
       "      <td>3.1</td>\n",
       "      <td>1.5</td>\n",
       "      <td>0.2</td>\n",
       "      <td>Iris-setosa</td>\n",
       "    </tr>\n",
       "    <tr>\n",
       "      <th>3</th>\n",
       "      <td>5.0</td>\n",
       "      <td>3.6</td>\n",
       "      <td>1.4</td>\n",
       "      <td>0.2</td>\n",
       "      <td>Iris-setosa</td>\n",
       "    </tr>\n",
       "    <tr>\n",
       "      <th>4</th>\n",
       "      <td>5.4</td>\n",
       "      <td>3.9</td>\n",
       "      <td>1.7</td>\n",
       "      <td>0.4</td>\n",
       "      <td>Iris-setosa</td>\n",
       "    </tr>\n",
       "    <tr>\n",
       "      <th>5</th>\n",
       "      <td>4.6</td>\n",
       "      <td>3.4</td>\n",
       "      <td>1.4</td>\n",
       "      <td>0.3</td>\n",
       "      <td>Iris-setosa</td>\n",
       "    </tr>\n",
       "    <tr>\n",
       "      <th>6</th>\n",
       "      <td>5.0</td>\n",
       "      <td>3.4</td>\n",
       "      <td>1.5</td>\n",
       "      <td>0.2</td>\n",
       "      <td>Iris-setosa</td>\n",
       "    </tr>\n",
       "    <tr>\n",
       "      <th>7</th>\n",
       "      <td>4.4</td>\n",
       "      <td>2.9</td>\n",
       "      <td>1.4</td>\n",
       "      <td>0.2</td>\n",
       "      <td>Iris-setosa</td>\n",
       "    </tr>\n",
       "    <tr>\n",
       "      <th>8</th>\n",
       "      <td>4.9</td>\n",
       "      <td>3.1</td>\n",
       "      <td>1.5</td>\n",
       "      <td>0.1</td>\n",
       "      <td>Iris-setosa</td>\n",
       "    </tr>\n",
       "    <tr>\n",
       "      <th>9</th>\n",
       "      <td>5.4</td>\n",
       "      <td>3.7</td>\n",
       "      <td>1.5</td>\n",
       "      <td>0.2</td>\n",
       "      <td>Iris-setosa</td>\n",
       "    </tr>\n",
       "  </tbody>\n",
       "</table>\n",
       "</div>"
      ],
      "text/plain": [
       "   sepal_length  sepal_width  petal_length  petal_width      species\n",
       "0           4.9          3.0           1.4          0.2  Iris-setosa\n",
       "1           4.7          3.2           1.3          0.2  Iris-setosa\n",
       "2           4.6          3.1           1.5          0.2  Iris-setosa\n",
       "3           5.0          3.6           1.4          0.2  Iris-setosa\n",
       "4           5.4          3.9           1.7          0.4  Iris-setosa\n",
       "5           4.6          3.4           1.4          0.3  Iris-setosa\n",
       "6           5.0          3.4           1.5          0.2  Iris-setosa\n",
       "7           4.4          2.9           1.4          0.2  Iris-setosa\n",
       "8           4.9          3.1           1.5          0.1  Iris-setosa\n",
       "9           5.4          3.7           1.5          0.2  Iris-setosa"
      ]
     },
     "execution_count": 107,
     "metadata": {},
     "output_type": "execute_result"
    }
   ],
   "source": [
    "df.head(10)"
   ]
  },
  {
   "cell_type": "code",
   "execution_count": 108,
   "id": "9e7851e2-46ec-488d-8106-bde96e08429a",
   "metadata": {},
   "outputs": [
    {
     "data": {
      "text/plain": [
       "sepal_length    0\n",
       "sepal_width     0\n",
       "petal_length    0\n",
       "petal_width     0\n",
       "species         0\n",
       "dtype: int64"
      ]
     },
     "execution_count": 108,
     "metadata": {},
     "output_type": "execute_result"
    }
   ],
   "source": [
    "df.isnull().sum()"
   ]
  },
  {
   "cell_type": "code",
   "execution_count": 109,
   "id": "2ef81d0f-cea8-4a9c-9441-11f59d6c1179",
   "metadata": {},
   "outputs": [
    {
     "data": {
      "text/plain": [
       "array(['Iris-setosa', 'Iris-versicolor', 'Iris-virginica'], dtype=object)"
      ]
     },
     "execution_count": 109,
     "metadata": {},
     "output_type": "execute_result"
    }
   ],
   "source": [
    "df.species.unique()"
   ]
  },
  {
   "cell_type": "code",
   "execution_count": 110,
   "id": "d4c368a9-40a3-4d16-ba44-090fad39b48f",
   "metadata": {},
   "outputs": [],
   "source": [
    "df['species'] = df['species'].map({\n",
    "    'Iris-setosa' : 0,\n",
    "    'Iris-versicolor' : 1,\n",
    "    'Iris-virginica' : 2\n",
    "})"
   ]
  },
  {
   "cell_type": "code",
   "execution_count": 111,
   "id": "71fc288c-7954-4309-8153-9659cf152993",
   "metadata": {},
   "outputs": [
    {
     "data": {
      "text/html": [
       "<div>\n",
       "<style scoped>\n",
       "    .dataframe tbody tr th:only-of-type {\n",
       "        vertical-align: middle;\n",
       "    }\n",
       "\n",
       "    .dataframe tbody tr th {\n",
       "        vertical-align: top;\n",
       "    }\n",
       "\n",
       "    .dataframe thead th {\n",
       "        text-align: right;\n",
       "    }\n",
       "</style>\n",
       "<table border=\"1\" class=\"dataframe\">\n",
       "  <thead>\n",
       "    <tr style=\"text-align: right;\">\n",
       "      <th></th>\n",
       "      <th>sepal_length</th>\n",
       "      <th>sepal_width</th>\n",
       "      <th>petal_length</th>\n",
       "      <th>petal_width</th>\n",
       "      <th>species</th>\n",
       "    </tr>\n",
       "  </thead>\n",
       "  <tbody>\n",
       "    <tr>\n",
       "      <th>0</th>\n",
       "      <td>4.9</td>\n",
       "      <td>3.0</td>\n",
       "      <td>1.4</td>\n",
       "      <td>0.2</td>\n",
       "      <td>0</td>\n",
       "    </tr>\n",
       "    <tr>\n",
       "      <th>1</th>\n",
       "      <td>4.7</td>\n",
       "      <td>3.2</td>\n",
       "      <td>1.3</td>\n",
       "      <td>0.2</td>\n",
       "      <td>0</td>\n",
       "    </tr>\n",
       "    <tr>\n",
       "      <th>2</th>\n",
       "      <td>4.6</td>\n",
       "      <td>3.1</td>\n",
       "      <td>1.5</td>\n",
       "      <td>0.2</td>\n",
       "      <td>0</td>\n",
       "    </tr>\n",
       "    <tr>\n",
       "      <th>3</th>\n",
       "      <td>5.0</td>\n",
       "      <td>3.6</td>\n",
       "      <td>1.4</td>\n",
       "      <td>0.2</td>\n",
       "      <td>0</td>\n",
       "    </tr>\n",
       "    <tr>\n",
       "      <th>4</th>\n",
       "      <td>5.4</td>\n",
       "      <td>3.9</td>\n",
       "      <td>1.7</td>\n",
       "      <td>0.4</td>\n",
       "      <td>0</td>\n",
       "    </tr>\n",
       "  </tbody>\n",
       "</table>\n",
       "</div>"
      ],
      "text/plain": [
       "   sepal_length  sepal_width  petal_length  petal_width  species\n",
       "0           4.9          3.0           1.4          0.2        0\n",
       "1           4.7          3.2           1.3          0.2        0\n",
       "2           4.6          3.1           1.5          0.2        0\n",
       "3           5.0          3.6           1.4          0.2        0\n",
       "4           5.4          3.9           1.7          0.4        0"
      ]
     },
     "execution_count": 111,
     "metadata": {},
     "output_type": "execute_result"
    }
   ],
   "source": [
    "df.head()"
   ]
  },
  {
   "cell_type": "code",
   "execution_count": null,
   "id": "8081f50d-342d-4b8d-a7a7-c4a5f19c7037",
   "metadata": {},
   "outputs": [],
   "source": []
  },
  {
   "cell_type": "code",
   "execution_count": 112,
   "id": "b23b6fcc-39b7-40cf-90d4-00012ca1c534",
   "metadata": {},
   "outputs": [
    {
     "name": "stdout",
     "output_type": "stream",
     "text": [
      "<class 'pandas.core.frame.DataFrame'>\n",
      "RangeIndex: 149 entries, 0 to 148\n",
      "Data columns (total 5 columns):\n",
      " #   Column        Non-Null Count  Dtype  \n",
      "---  ------        --------------  -----  \n",
      " 0   sepal_length  149 non-null    float64\n",
      " 1   sepal_width   149 non-null    float64\n",
      " 2   petal_length  149 non-null    float64\n",
      " 3   petal_width   149 non-null    float64\n",
      " 4   species       149 non-null    int64  \n",
      "dtypes: float64(4), int64(1)\n",
      "memory usage: 5.9 KB\n"
     ]
    }
   ],
   "source": [
    "df.info()"
   ]
  },
  {
   "cell_type": "code",
   "execution_count": 113,
   "id": "58114127-8442-437c-a10c-ef8485a10fd8",
   "metadata": {},
   "outputs": [
    {
     "data": {
      "image/png": "[encoded data removed]",
      "text/plain": [
       "<Figure size 720x576 with 1 Axes>"
      ]
     },
     "metadata": {
      "needs_background": "light"
     },
     "output_type": "display_data"
    },
    {
     "data": {
      "image/png": "[encoded data removed]",
      "text/plain": [
       "<Figure size 720x576 with 1 Axes>"
      ]
     },
     "metadata": {
      "needs_background": "light"
     },
     "output_type": "display_data"
    },
    {
     "data": {
      "image/png": "[encoded data removed]",
      "text/plain": [
       "<Figure size 720x576 with 1 Axes>"
      ]
     },
     "metadata": {
      "needs_background": "light"
     },
     "output_type": "display_data"
    },
    {
     "data": {
      "image/png": "[encoded data removed]",
      "text/plain": [
       "<Figure size 720x576 with 1 Axes>"
      ]
     },
     "metadata": {
      "needs_background": "light"
     },
     "output_type": "display_data"
    }
   ],
   "source": [
    "for i in range(len(df.columns)-1):\n",
    "    plt.figure(figsize = (10, 8))\n",
    "    plt.subplot(2,2,i+1)\n",
    "    sb.kdeplot(data = df, x = df.columns[i])\n",
    "    plt.show()"
   ]
  },
  {
   "cell_type": "markdown",
   "id": "cd77fffd-7ac8-4b3f-9020-cebc2879f633",
   "metadata": {},
   "source": [
    "# Model"
   ]
  },
  {
   "cell_type": "code",
   "execution_count": 114,
   "id": "92545690-1e45-467a-899e-a36749650d20",
   "metadata": {},
   "outputs": [],
   "source": [
    "from sklearn.ensemble import RandomForestClassifier\n",
    "from sklearn.model_selection import train_test_split as tts"
   ]
  },
  {
   "cell_type": "code",
   "execution_count": 115,
   "id": "d808d2ec-82cf-4829-ac60-41721efd57c6",
   "metadata": {},
   "outputs": [
    {
     "data": {
      "text/html": [
       "<div>\n",
       "<style scoped>\n",
       "    .dataframe tbody tr th:only-of-type {\n",
       "        vertical-align: middle;\n",
       "    }\n",
       "\n",
       "    .dataframe tbody tr th {\n",
       "        vertical-align: top;\n",
       "    }\n",
       "\n",
       "    .dataframe thead th {\n",
       "        text-align: right;\n",
       "    }\n",
       "</style>\n",
       "<table border=\"1\" class=\"dataframe\">\n",
       "  <thead>\n",
       "    <tr style=\"text-align: right;\">\n",
       "      <th></th>\n",
       "      <th>sepal_length</th>\n",
       "      <th>sepal_width</th>\n",
       "      <th>petal_length</th>\n",
       "      <th>petal_width</th>\n",
       "    </tr>\n",
       "  </thead>\n",
       "  <tbody>\n",
       "    <tr>\n",
       "      <th>0</th>\n",
       "      <td>5.1</td>\n",
       "      <td>3.5</td>\n",
       "      <td>1.4</td>\n",
       "      <td>0.2</td>\n",
       "    </tr>\n",
       "    <tr>\n",
       "      <th>1</th>\n",
       "      <td>4.9</td>\n",
       "      <td>3.0</td>\n",
       "      <td>1.4</td>\n",
       "      <td>0.2</td>\n",
       "    </tr>\n",
       "    <tr>\n",
       "      <th>2</th>\n",
       "      <td>4.7</td>\n",
       "      <td>3.2</td>\n",
       "      <td>1.3</td>\n",
       "      <td>0.2</td>\n",
       "    </tr>\n",
       "    <tr>\n",
       "      <th>3</th>\n",
       "      <td>4.6</td>\n",
       "      <td>3.1</td>\n",
       "      <td>1.5</td>\n",
       "      <td>0.2</td>\n",
       "    </tr>\n",
       "    <tr>\n",
       "      <th>4</th>\n",
       "      <td>5.0</td>\n",
       "      <td>3.6</td>\n",
       "      <td>1.4</td>\n",
       "      <td>0.2</td>\n",
       "    </tr>\n",
       "    <tr>\n",
       "      <th>...</th>\n",
       "      <td>...</td>\n",
       "      <td>...</td>\n",
       "      <td>...</td>\n",
       "      <td>...</td>\n",
       "    </tr>\n",
       "    <tr>\n",
       "      <th>145</th>\n",
       "      <td>6.7</td>\n",
       "      <td>3.0</td>\n",
       "      <td>5.2</td>\n",
       "      <td>2.3</td>\n",
       "    </tr>\n",
       "    <tr>\n",
       "      <th>146</th>\n",
       "      <td>6.3</td>\n",
       "      <td>2.5</td>\n",
       "      <td>5.0</td>\n",
       "      <td>1.9</td>\n",
       "    </tr>\n",
       "    <tr>\n",
       "      <th>147</th>\n",
       "      <td>6.5</td>\n",
       "      <td>3.0</td>\n",
       "      <td>5.2</td>\n",
       "      <td>2.0</td>\n",
       "    </tr>\n",
       "    <tr>\n",
       "      <th>148</th>\n",
       "      <td>6.2</td>\n",
       "      <td>3.4</td>\n",
       "      <td>5.4</td>\n",
       "      <td>2.3</td>\n",
       "    </tr>\n",
       "    <tr>\n",
       "      <th>149</th>\n",
       "      <td>5.9</td>\n",
       "      <td>3.0</td>\n",
       "      <td>5.1</td>\n",
       "      <td>1.8</td>\n",
       "    </tr>\n",
       "  </tbody>\n",
       "</table>\n",
       "<p>150 rows × 4 columns</p>\n",
       "</div>"
      ],
      "text/plain": [
       "     sepal_length  sepal_width  petal_length  petal_width\n",
       "0             5.1          3.5           1.4          0.2\n",
       "1             4.9          3.0           1.4          0.2\n",
       "2             4.7          3.2           1.3          0.2\n",
       "3             4.6          3.1           1.5          0.2\n",
       "4             5.0          3.6           1.4          0.2\n",
       "..            ...          ...           ...          ...\n",
       "145           6.7          3.0           5.2          2.3\n",
       "146           6.3          2.5           5.0          1.9\n",
       "147           6.5          3.0           5.2          2.0\n",
       "148           6.2          3.4           5.4          2.3\n",
       "149           5.9          3.0           5.1          1.8\n",
       "\n",
       "[150 rows x 4 columns]"
      ]
     },
     "execution_count": 115,
     "metadata": {},
     "output_type": "execute_result"
    }
   ],
   "source": [
    "x"
   ]
  },
  {
   "cell_type": "code",
   "execution_count": null,
   "id": "c9298cec-7f74-4374-8fc1-4a73c8ee9770",
   "metadata": {},
   "outputs": [],
   "source": [
    "x = df.drop('species', axis = 1)\n",
    "y = df['species']\n",
    "x.shape, y.shape"
   ]
  },
  {
   "cell_type": "code",
   "execution_count": 116,
   "id": "af9ec2ae-c92b-4bea-84db-2f855fc73af8",
   "metadata": {},
   "outputs": [],
   "source": [
    "x_train, x_test, y_train,y_test = tts(x,y, test_size = 0.1 )"
   ]
  },
  {
   "cell_type": "code",
   "execution_count": 117,
   "id": "b28c7b3c-d0d6-456d-9ffc-78e1612e35f3",
   "metadata": {},
   "outputs": [],
   "source": [
    "sc = StandardScaler()\n",
    "x_train = sc.fit_transform(x_train)\n",
    "x_test = sc.transform(x_test)"
   ]
  },
  {
   "cell_type": "code",
   "execution_count": 118,
   "id": "f0301813-31c5-4037-8c60-bc9b6328d4c0",
   "metadata": {},
   "outputs": [],
   "source": [
    "model = a360ai.get_or_create_model(model_name = 'iris')"
   ]
  },
  {
   "cell_type": "code",
   "execution_count": 119,
   "id": "daa1cc59-f0e7-4d80-aa4a-e4fb691f29b0",
   "metadata": {},
   "outputs": [
    {
     "data": {
      "text/plain": [
       "<Model iris>"
      ]
     },
     "execution_count": 119,
     "metadata": {},
     "output_type": "execute_result"
    }
   ],
   "source": [
    "model"
   ]
  },
  {
   "cell_type": "code",
   "execution_count": 120,
   "id": "f6519d58-fe5d-4cea-83e3-c73e76606bef",
   "metadata": {},
   "outputs": [
    {
     "name": "stderr",
     "output_type": "stream",
     "text": [
      "/opt/conda/lib/python3.10/site-packages/a360mdk/controllers/experiment.py:555: UserWarning: Concept drift monitoring of classification models is not supported. This is only supported in regression models.\n",
      "  warnings.warn(\n"
     ]
    },
    {
     "name": "stdout",
     "output_type": "stream",
     "text": [
      "\n",
      "//-- Experiment Loaded --//\n",
      "Model Name: iris\n",
      "Experiment Name: iris\n",
      "Final Run Id: None\n",
      "Model Flavor: sklearn\n",
      "Input Signature: ndarray: float64 (4,)\n",
      "Output Signature: species big_integer\n",
      "Data Exploration File: /home/jovyan/IRIS.ipynb\n",
      "Data Preparation File: /home/jovyan/IRIS.ipynb\n",
      "Model Training File: /home/jovyan/IRIS.ipynb\n",
      "Drift Monitoring Enabled: True\n",
      "\n"
     ]
    }
   ],
   "source": [
    "experiment = model.get_or_create_experiment(\n",
    "    experiment_name = f\"iris\",\n",
    "    model_flavor = \"sklearn\",\n",
    "    enable_drift_monitoring=True,\n",
    "    train_features=x_train,\n",
    "    train_target=y_train,\n",
    "    feature_names=list(x.columns),\n",
    "    model_training_file=\"/home/jovyan/IRIS.ipynb\",\n",
    ")"
   ]
  },
  {
   "cell_type": "code",
   "execution_count": 121,
   "id": "55b031c9-999c-48b2-b1ad-ad569864db95",
   "metadata": {},
   "outputs": [
    {
     "data": {
      "text/html": [
       "<div>\n",
       "<style scoped>\n",
       "    .dataframe tbody tr th:only-of-type {\n",
       "        vertical-align: middle;\n",
       "    }\n",
       "\n",
       "    .dataframe tbody tr th {\n",
       "        vertical-align: top;\n",
       "    }\n",
       "\n",
       "    .dataframe thead th {\n",
       "        text-align: right;\n",
       "    }\n",
       "</style>\n",
       "<table border=\"1\" class=\"dataframe\">\n",
       "  <thead>\n",
       "    <tr style=\"text-align: right;\">\n",
       "      <th></th>\n",
       "      <th>id</th>\n",
       "      <th>bestRun</th>\n",
       "      <th>model_id</th>\n",
       "      <th>experiment_name</th>\n",
       "      <th>best_run_id</th>\n",
       "      <th>model_flavor</th>\n",
       "      <th>input_signature</th>\n",
       "      <th>output_signature</th>\n",
       "      <th>data_exploration_file</th>\n",
       "      <th>data_preparation_file</th>\n",
       "      <th>model_training_file</th>\n",
       "      <th>baseline</th>\n",
       "      <th>train_shape</th>\n",
       "      <th>model_name</th>\n",
       "      <th>updated_at</th>\n",
       "    </tr>\n",
       "  </thead>\n",
       "  <tbody>\n",
       "    <tr>\n",
       "      <th>0</th>\n",
       "      <td>458e3d0a-8efe-4cd4-8af1-e45f7976a0c4</td>\n",
       "      <td>None</td>\n",
       "      <td>f4b7ea03-1d4c-4f82-be31-245f7eba100a</td>\n",
       "      <td>iris</td>\n",
       "      <td>None</td>\n",
       "      <td>sklearn</td>\n",
       "      <td>ndarray: float64 (4,)</td>\n",
       "      <td>species big_integer</td>\n",
       "      <td>/home/jovyan/IRIS.ipynb</td>\n",
       "      <td>/home/jovyan/IRIS.ipynb</td>\n",
       "      <td>/home/jovyan/IRIS.ipynb</td>\n",
       "      <td>{'sepal_length': {'mean': -1.3750317756838975e...</td>\n",
       "      <td>[4]</td>\n",
       "      <td>iris</td>\n",
       "      <td>2022-11-04 06:10</td>\n",
       "    </tr>\n",
       "  </tbody>\n",
       "</table>\n",
       "</div>"
      ],
      "text/plain": [
       "                                     id bestRun  \\\n",
       "0  458e3d0a-8efe-4cd4-8af1-e45f7976a0c4    None   \n",
       "\n",
       "                               model_id experiment_name best_run_id  \\\n",
       "0  f4b7ea03-1d4c-4f82-be31-245f7eba100a            iris        None   \n",
       "\n",
       "  model_flavor        input_signature     output_signature  \\\n",
       "0      sklearn  ndarray: float64 (4,)  species big_integer   \n",
       "\n",
       "     data_exploration_file    data_preparation_file      model_training_file  \\\n",
       "0  /home/jovyan/IRIS.ipynb  /home/jovyan/IRIS.ipynb  /home/jovyan/IRIS.ipynb   \n",
       "\n",
       "                                            baseline train_shape model_name  \\\n",
       "0  {'sepal_length': {'mean': -1.3750317756838975e...         [4]       iris   \n",
       "\n",
       "         updated_at  \n",
       "0  2022-11-04 06:10  "
      ]
     },
     "execution_count": 121,
     "metadata": {},
     "output_type": "execute_result"
    }
   ],
   "source": [
    "experiments = model.list_experiments()\n",
    "experiments"
   ]
  },
  {
   "cell_type": "code",
   "execution_count": 124,
   "id": "d6b0d7d4-44d6-47e1-8e0c-5ced0b48a421",
   "metadata": {},
   "outputs": [
    {
     "name": "stdout",
     "output_type": "stream",
     "text": [
      "Run 1 Complete!\n"
     ]
    },
    {
     "name": "stderr",
     "output_type": "stream",
     "text": [
      "/opt/conda/lib/python3.10/site-packages/a360mdk/controllers/notebook_save.py:95: FutureWarning: The frame.append method is deprecated and will be removed from pandas in a future version. Use pandas.concat instead.\n",
      "  cells = cells.append(final_input_cell, ignore_index=True)\n"
     ]
    },
    {
     "name": "stdout",
     "output_type": "stream",
     "text": [
      "Run 2 Complete!\n"
     ]
    },
    {
     "name": "stderr",
     "output_type": "stream",
     "text": [
      "/opt/conda/lib/python3.10/site-packages/a360mdk/controllers/notebook_save.py:95: FutureWarning: The frame.append method is deprecated and will be removed from pandas in a future version. Use pandas.concat instead.\n",
      "  cells = cells.append(final_input_cell, ignore_index=True)\n"
     ]
    },
    {
     "name": "stdout",
     "output_type": "stream",
     "text": [
      "Run 3 Complete!\n"
     ]
    },
    {
     "name": "stderr",
     "output_type": "stream",
     "text": [
      "/opt/conda/lib/python3.10/site-packages/a360mdk/controllers/notebook_save.py:95: FutureWarning: The frame.append method is deprecated and will be removed from pandas in a future version. Use pandas.concat instead.\n",
      "  cells = cells.append(final_input_cell, ignore_index=True)\n"
     ]
    },
    {
     "name": "stdout",
     "output_type": "stream",
     "text": [
      "Run 4 Complete!\n"
     ]
    },
    {
     "name": "stderr",
     "output_type": "stream",
     "text": [
      "/opt/conda/lib/python3.10/site-packages/a360mdk/controllers/notebook_save.py:95: FutureWarning: The frame.append method is deprecated and will be removed from pandas in a future version. Use pandas.concat instead.\n",
      "  cells = cells.append(final_input_cell, ignore_index=True)\n"
     ]
    },
    {
     "name": "stdout",
     "output_type": "stream",
     "text": [
      "Run 5 Complete!\n"
     ]
    },
    {
     "name": "stderr",
     "output_type": "stream",
     "text": [
      "/opt/conda/lib/python3.10/site-packages/a360mdk/controllers/notebook_save.py:95: FutureWarning: The frame.append method is deprecated and will be removed from pandas in a future version. Use pandas.concat instead.\n",
      "  cells = cells.append(final_input_cell, ignore_index=True)\n"
     ]
    }
   ],
   "source": [
    "count = 1\n",
    "for n in [10,15,25,50,75]:\n",
    "    with experiment.run_experiment() as run:\n",
    "    \n",
    "        hyperparams = {\n",
    "            \"n_estimators\": n,\n",
    "            \"max_depth\": 6            \n",
    "        }\n",
    "    \n",
    "        rf = RandomForestClassifier(**hyperparams)\n",
    "        rf.fit(x_train, y_train)\n",
    "        train_score = rf.score(x_train, y_train)\n",
    "        test_score = rf.score(x_test, y_test)\n",
    "\n",
    "        metrics = {\n",
    "            \"train_score\": train_score,\n",
    "            \"test_score\": test_score,\n",
    "        }\n",
    "\n",
    "        run.log_metrics(metrics)\n",
    "        run.log_hyperparameters(hyperparams)\n",
    "        run.log_model(rf)\n",
    "        \n",
    "        print(\"Run \" + str(count) + \" Complete!\")\n",
    "        count = count + 1 \n",
    "\n"
   ]
  },
  {
   "cell_type": "code",
   "execution_count": 125,
   "id": "91b78ca6-2e57-4fd3-adb5-a1524c20b814",
   "metadata": {},
   "outputs": [
    {
     "data": {
      "text/html": [
       "<div>\n",
       "<style scoped>\n",
       "    .dataframe tbody tr th:only-of-type {\n",
       "        vertical-align: middle;\n",
       "    }\n",
       "\n",
       "    .dataframe tbody tr th {\n",
       "        vertical-align: top;\n",
       "    }\n",
       "\n",
       "    .dataframe thead th {\n",
       "        text-align: right;\n",
       "    }\n",
       "</style>\n",
       "<table border=\"1\" class=\"dataframe\">\n",
       "  <thead>\n",
       "    <tr style=\"text-align: right;\">\n",
       "      <th></th>\n",
       "      <th>id</th>\n",
       "      <th>dataset</th>\n",
       "      <th>artifact_paths</th>\n",
       "      <th>metric_test_score</th>\n",
       "      <th>metric_train_score</th>\n",
       "      <th>hyperparameter_max_depth</th>\n",
       "      <th>hyperparameter_n_estimators</th>\n",
       "      <th>metadata_run_time</th>\n",
       "    </tr>\n",
       "  </thead>\n",
       "  <tbody>\n",
       "    <tr>\n",
       "      <th>0</th>\n",
       "      <td>f7e9fdd5-1796-4580-a633-890842ef0ba2</td>\n",
       "      <td>1bb34007-e460-4323-959c-36143e7b3a79</td>\n",
       "      <td>[{'id': 'd6242931-8a45-41a2-ad7c-cc7bfd97719c'...</td>\n",
       "      <td>0.933333</td>\n",
       "      <td>0.992593</td>\n",
       "      <td>6</td>\n",
       "      <td>25</td>\n",
       "      <td>0.034570</td>\n",
       "    </tr>\n",
       "    <tr>\n",
       "      <th>1</th>\n",
       "      <td>5e05f8a2-e656-49d3-b2f9-1b47526c9094</td>\n",
       "      <td>1bb34007-e460-4323-959c-36143e7b3a79</td>\n",
       "      <td>[{'id': 'ac675882-b968-4cb7-91c4-19b50d4d6402'...</td>\n",
       "      <td>0.933333</td>\n",
       "      <td>1.000000</td>\n",
       "      <td>6</td>\n",
       "      <td>50</td>\n",
       "      <td>0.064911</td>\n",
       "    </tr>\n",
       "    <tr>\n",
       "      <th>2</th>\n",
       "      <td>237b6d8e-b716-4a5f-87f7-b216968d5991</td>\n",
       "      <td>1bb34007-e460-4323-959c-36143e7b3a79</td>\n",
       "      <td>[{'id': '34c7f070-68f8-4cb3-95c6-299a25364596'...</td>\n",
       "      <td>0.933333</td>\n",
       "      <td>1.000000</td>\n",
       "      <td>6</td>\n",
       "      <td>75</td>\n",
       "      <td>0.094944</td>\n",
       "    </tr>\n",
       "    <tr>\n",
       "      <th>3</th>\n",
       "      <td>776fb8e7-746d-4e19-b119-8ffa492738fa</td>\n",
       "      <td>1bb34007-e460-4323-959c-36143e7b3a79</td>\n",
       "      <td>[{'id': '188e7aa4-b8ec-47c7-bb6b-ca3eb726f3bb'...</td>\n",
       "      <td>0.933333</td>\n",
       "      <td>1.000000</td>\n",
       "      <td>6</td>\n",
       "      <td>100</td>\n",
       "      <td>0.126127</td>\n",
       "    </tr>\n",
       "    <tr>\n",
       "      <th>4</th>\n",
       "      <td>2e4b6a63-bd98-41dd-9c85-b8e7db59285f</td>\n",
       "      <td>1bb34007-e460-4323-959c-36143e7b3a79</td>\n",
       "      <td>[{'id': 'a7235f5f-092c-46c6-a8b6-0e46d31c8b2c'...</td>\n",
       "      <td>0.933333</td>\n",
       "      <td>1.000000</td>\n",
       "      <td>6</td>\n",
       "      <td>125</td>\n",
       "      <td>0.156084</td>\n",
       "    </tr>\n",
       "    <tr>\n",
       "      <th>5</th>\n",
       "      <td>b652b026-15e0-4045-aa82-30d5cc255bd6</td>\n",
       "      <td>1bb34007-e460-4323-959c-36143e7b3a79</td>\n",
       "      <td>[{'id': '571ee714-f255-4bef-9f76-66182bd9678e'...</td>\n",
       "      <td>0.933333</td>\n",
       "      <td>1.000000</td>\n",
       "      <td>6</td>\n",
       "      <td>150</td>\n",
       "      <td>0.186660</td>\n",
       "    </tr>\n",
       "    <tr>\n",
       "      <th>6</th>\n",
       "      <td>1c51a965-3443-4a9f-89ec-13c2e10e9977</td>\n",
       "      <td>1bb34007-e460-4323-959c-36143e7b3a79</td>\n",
       "      <td>[{'id': '868d5e62-a34f-49fe-854a-1115a2dc048c'...</td>\n",
       "      <td>0.933333</td>\n",
       "      <td>1.000000</td>\n",
       "      <td>6</td>\n",
       "      <td>10</td>\n",
       "      <td>0.016933</td>\n",
       "    </tr>\n",
       "    <tr>\n",
       "      <th>7</th>\n",
       "      <td>dba6ba3d-97a3-42e1-89b9-d8aecba5336e</td>\n",
       "      <td>1bb34007-e460-4323-959c-36143e7b3a79</td>\n",
       "      <td>[{'id': 'debcfb5f-df74-4eaa-bdf2-05ba70051522'...</td>\n",
       "      <td>0.933333</td>\n",
       "      <td>0.992593</td>\n",
       "      <td>6</td>\n",
       "      <td>15</td>\n",
       "      <td>0.020875</td>\n",
       "    </tr>\n",
       "    <tr>\n",
       "      <th>8</th>\n",
       "      <td>e0fcee02-5430-47fb-8b5d-3a5a6959506f</td>\n",
       "      <td>1bb34007-e460-4323-959c-36143e7b3a79</td>\n",
       "      <td>[{'id': '439949fd-dc5d-4b86-856d-087b943a170f'...</td>\n",
       "      <td>0.933333</td>\n",
       "      <td>1.000000</td>\n",
       "      <td>6</td>\n",
       "      <td>25</td>\n",
       "      <td>0.033242</td>\n",
       "    </tr>\n",
       "    <tr>\n",
       "      <th>9</th>\n",
       "      <td>dd98537f-77d0-4870-8e7f-38bc90f900f1</td>\n",
       "      <td>1bb34007-e460-4323-959c-36143e7b3a79</td>\n",
       "      <td>[{'id': '686aa3bc-b86a-4e62-8501-e3c4975c4fad'...</td>\n",
       "      <td>0.933333</td>\n",
       "      <td>1.000000</td>\n",
       "      <td>6</td>\n",
       "      <td>50</td>\n",
       "      <td>0.063929</td>\n",
       "    </tr>\n",
       "    <tr>\n",
       "      <th>10</th>\n",
       "      <td>d2e2f65a-4c4c-478a-8cb5-8c04f448fb8d</td>\n",
       "      <td>1bb34007-e460-4323-959c-36143e7b3a79</td>\n",
       "      <td>[{'id': '41d2df72-db28-4276-9130-f0d3b8412a8e'...</td>\n",
       "      <td>0.933333</td>\n",
       "      <td>1.000000</td>\n",
       "      <td>6</td>\n",
       "      <td>75</td>\n",
       "      <td>0.094294</td>\n",
       "    </tr>\n",
       "  </tbody>\n",
       "</table>\n",
       "</div>"
      ],
      "text/plain": [
       "                                      id  \\\n",
       "0   f7e9fdd5-1796-4580-a633-890842ef0ba2   \n",
       "1   5e05f8a2-e656-49d3-b2f9-1b47526c9094   \n",
       "2   237b6d8e-b716-4a5f-87f7-b216968d5991   \n",
       "3   776fb8e7-746d-4e19-b119-8ffa492738fa   \n",
       "4   2e4b6a63-bd98-41dd-9c85-b8e7db59285f   \n",
       "5   b652b026-15e0-4045-aa82-30d5cc255bd6   \n",
       "6   1c51a965-3443-4a9f-89ec-13c2e10e9977   \n",
       "7   dba6ba3d-97a3-42e1-89b9-d8aecba5336e   \n",
       "8   e0fcee02-5430-47fb-8b5d-3a5a6959506f   \n",
       "9   dd98537f-77d0-4870-8e7f-38bc90f900f1   \n",
       "10  d2e2f65a-4c4c-478a-8cb5-8c04f448fb8d   \n",
       "\n",
       "                                 dataset  \\\n",
       "0   1bb34007-e460-4323-959c-36143e7b3a79   \n",
       "1   1bb34007-e460-4323-959c-36143e7b3a79   \n",
       "2   1bb34007-e460-4323-959c-36143e7b3a79   \n",
       "3   1bb34007-e460-4323-959c-36143e7b3a79   \n",
       "4   1bb34007-e460-4323-959c-36143e7b3a79   \n",
       "5   1bb34007-e460-4323-959c-36143e7b3a79   \n",
       "6   1bb34007-e460-4323-959c-36143e7b3a79   \n",
       "7   1bb34007-e460-4323-959c-36143e7b3a79   \n",
       "8   1bb34007-e460-4323-959c-36143e7b3a79   \n",
       "9   1bb34007-e460-4323-959c-36143e7b3a79   \n",
       "10  1bb34007-e460-4323-959c-36143e7b3a79   \n",
       "\n",
       "                                       artifact_paths  metric_test_score  \\\n",
       "0   [{'id': 'd6242931-8a45-41a2-ad7c-cc7bfd97719c'...           0.933333   \n",
       "1   [{'id': 'ac675882-b968-4cb7-91c4-19b50d4d6402'...           0.933333   \n",
       "2   [{'id': '34c7f070-68f8-4cb3-95c6-299a25364596'...           0.933333   \n",
       "3   [{'id': '188e7aa4-b8ec-47c7-bb6b-ca3eb726f3bb'...           0.933333   \n",
       "4   [{'id': 'a7235f5f-092c-46c6-a8b6-0e46d31c8b2c'...           0.933333   \n",
       "5   [{'id': '571ee714-f255-4bef-9f76-66182bd9678e'...           0.933333   \n",
       "6   [{'id': '868d5e62-a34f-49fe-854a-1115a2dc048c'...           0.933333   \n",
       "7   [{'id': 'debcfb5f-df74-4eaa-bdf2-05ba70051522'...           0.933333   \n",
       "8   [{'id': '439949fd-dc5d-4b86-856d-087b943a170f'...           0.933333   \n",
       "9   [{'id': '686aa3bc-b86a-4e62-8501-e3c4975c4fad'...           0.933333   \n",
       "10  [{'id': '41d2df72-db28-4276-9130-f0d3b8412a8e'...           0.933333   \n",
       "\n",
       "    metric_train_score  hyperparameter_max_depth  hyperparameter_n_estimators  \\\n",
       "0             0.992593                         6                           25   \n",
       "1             1.000000                         6                           50   \n",
       "2             1.000000                         6                           75   \n",
       "3             1.000000                         6                          100   \n",
       "4             1.000000                         6                          125   \n",
       "5             1.000000                         6                          150   \n",
       "6             1.000000                         6                           10   \n",
       "7             0.992593                         6                           15   \n",
       "8             1.000000                         6                           25   \n",
       "9             1.000000                         6                           50   \n",
       "10            1.000000                         6                           75   \n",
       "\n",
       "    metadata_run_time  \n",
       "0            0.034570  \n",
       "1            0.064911  \n",
       "2            0.094944  \n",
       "3            0.126127  \n",
       "4            0.156084  \n",
       "5            0.186660  \n",
       "6            0.016933  \n",
       "7            0.020875  \n",
       "8            0.033242  \n",
       "9            0.063929  \n",
       "10           0.094294  "
      ]
     },
     "execution_count": 125,
     "metadata": {},
     "output_type": "execute_result"
    }
   ],
   "source": [
    "runs = experiment.list_runs()\n",
    "runs"
   ]
  },
  {
   "cell_type": "code",
   "execution_count": 126,
   "id": "aa16342c-b177-48de-b790-aa08d149e0ab",
   "metadata": {},
   "outputs": [],
   "source": [
    "best_run_id = runs.sort_values(\"metric_test_score\", ascending=False).id.values[0]\n",
    "model.set_final_run(experiment, best_run_id)"
   ]
  }
 ],
 "metadata": {
  "kernelspec": {
   "display_name": "Python 3 (ipykernel)",
   "language": "python",
   "name": "python3"
  },
  "language_info": {
   "codemirror_mode": {
    "name": "ipython",
    "version": 3
   },
   "file_extension": ".py",
   "mimetype": "text/x-python",
   "name": "python",
   "nbconvert_exporter": "python",
   "pygments_lexer": "ipython3",
   "version": "3.10.6"
  }
 },
 "nbformat": 4,
 "nbformat_minor": 5
}
